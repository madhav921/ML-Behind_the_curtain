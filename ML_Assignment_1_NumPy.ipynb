{
  "cells": [
    {
      "cell_type": "code",
      "execution_count": null,
      "id": "42f5e68e",
      "metadata": {
        "id": "42f5e68e"
      },
      "outputs": [],
      "source": [
        "import numpy as np\n",
        "from numpy import random"
      ]
    },
    {
      "cell_type": "markdown",
      "id": "2b209b50",
      "metadata": {
        "id": "2b209b50"
      },
      "source": [
        "Q1 Let x = np.arange(4, dtype=np.int64). Create an array of ones with the same shape and type as X."
      ]
    },
    {
      "cell_type": "code",
      "execution_count": null,
      "id": "729dc9cd",
      "metadata": {
        "id": "729dc9cd",
        "colab": {
          "base_uri": "https://localhost:8080/"
        },
        "outputId": "5a88b75c-e42d-4bc9-c69e-eb309f1d257b"
      },
      "outputs": [
        {
          "output_type": "stream",
          "name": "stdout",
          "text": [
            "[1 1 1 1]\n"
          ]
        }
      ],
      "source": [
        "x=np.arange(4,dtype=np.int64)\n",
        "y1=np.full_like(x,1)\n",
        "print(y1)"
      ]
    },
    {
      "cell_type": "markdown",
      "id": "1b9ea803",
      "metadata": {
        "id": "1b9ea803"
      },
      "source": [
        "Q2 Let X = np.array([[1, 2], [3, 4]]). Convert it into a matrix."
      ]
    },
    {
      "cell_type": "code",
      "execution_count": null,
      "id": "23e39b64",
      "metadata": {
        "id": "23e39b64",
        "colab": {
          "base_uri": "https://localhost:8080/"
        },
        "outputId": "de217fb3-dd82-46f8-a24b-503967198908"
      },
      "outputs": [
        {
          "output_type": "stream",
          "name": "stdout",
          "text": [
            "[[1 2]\n",
            " [3 4]]\n"
          ]
        }
      ],
      "source": [
        "x=np.array([[1,2],[3,4]])\n",
        "y2=np.asmatrix(x)\n",
        "# print(x)\n",
        "# print(x.dtype)\n",
        "print(y2)\n",
        "# print(y2.dtype)"
      ]
    },
    {
      "cell_type": "markdown",
      "id": "4c1fc004",
      "metadata": {
        "id": "4c1fc004"
      },
      "source": [
        "Q3 Create a 1-D array of 50 evenly spaced elements between 3. and 10., inclusive."
      ]
    },
    {
      "cell_type": "code",
      "execution_count": null,
      "id": "9f0a47db",
      "metadata": {
        "id": "9f0a47db",
        "colab": {
          "base_uri": "https://localhost:8080/"
        },
        "outputId": "7251fb21-364e-4c92-9c42-0feb178435c8"
      },
      "outputs": [
        {
          "output_type": "stream",
          "name": "stdout",
          "text": [
            "[ 3.          3.14285714  3.28571429  3.42857143  3.57142857  3.71428571\n",
            "  3.85714286  4.          4.14285714  4.28571429  4.42857143  4.57142857\n",
            "  4.71428571  4.85714286  5.          5.14285714  5.28571429  5.42857143\n",
            "  5.57142857  5.71428571  5.85714286  6.          6.14285714  6.28571429\n",
            "  6.42857143  6.57142857  6.71428571  6.85714286  7.          7.14285714\n",
            "  7.28571429  7.42857143  7.57142857  7.71428571  7.85714286  8.\n",
            "  8.14285714  8.28571429  8.42857143  8.57142857  8.71428571  8.85714286\n",
            "  9.          9.14285714  9.28571429  9.42857143  9.57142857  9.71428571\n",
            "  9.85714286 10.        ]\n"
          ]
        }
      ],
      "source": [
        "y3=np.linspace(3,10,50)\n",
        "print(y3)"
      ]
    },
    {
      "cell_type": "markdown",
      "id": "0289d659",
      "metadata": {
        "id": "0289d659"
      },
      "source": [
        "Q4 Let x be array [[1, 2, 3], [4, 5, 6]]. Convert it to [1 4 2 5 3 6]."
      ]
    },
    {
      "cell_type": "code",
      "execution_count": null,
      "id": "f8435bca",
      "metadata": {
        "id": "f8435bca",
        "colab": {
          "base_uri": "https://localhost:8080/"
        },
        "outputId": "c103e9f2-58fa-4edf-d6d9-0f7a8a6304c2"
      },
      "outputs": [
        {
          "output_type": "stream",
          "name": "stdout",
          "text": [
            "[1 4 2 5 3 6]\n"
          ]
        }
      ],
      "source": [
        "x=np.array([[1, 2, 3], [4, 5, 6]])\n",
        "y4=(np.dstack(x)).reshape(-1)\n",
        "print(y4)"
      ]
    },
    {
      "cell_type": "markdown",
      "id": "71988acd",
      "metadata": {
        "id": "71988acd"
      },
      "source": [
        "Q5 Let x be an array [1, 2, 3, ..., 9]. Split x into 3 arrays, each of which has 4, 2, and 3 elements in the original order."
      ]
    },
    {
      "cell_type": "code",
      "execution_count": null,
      "id": "9425a232",
      "metadata": {
        "id": "9425a232",
        "colab": {
          "base_uri": "https://localhost:8080/"
        },
        "outputId": "ec431943-5488-4fa7-a20a-01a320f14448"
      },
      "outputs": [
        {
          "output_type": "stream",
          "name": "stdout",
          "text": [
            "[array([1, 2, 3, 4]), array([5, 6]), array([7, 8, 9]), array([], dtype=int64)]\n"
          ]
        }
      ],
      "source": [
        "x=np.arange(1,10,1)\n",
        "y5=np.split(x,[4,6,9])\n",
        "print(y5)"
      ]
    },
    {
      "cell_type": "markdown",
      "id": "6aecae8c",
      "metadata": {
        "id": "6aecae8c"
      },
      "source": [
        " Q6 Compute the inverse and primary diagnol sum of x=[[1,2],[3,4]]"
      ]
    },
    {
      "cell_type": "code",
      "execution_count": null,
      "id": "3d79a142",
      "metadata": {
        "id": "3d79a142",
        "colab": {
          "base_uri": "https://localhost:8080/"
        },
        "outputId": "923c0510-d72a-4314-97a2-5c4fe36e4e6f"
      },
      "outputs": [
        {
          "output_type": "stream",
          "name": "stdout",
          "text": [
            "[[-2.   1. ]\n",
            " [ 1.5 -0.5]]\n",
            "5\n"
          ]
        }
      ],
      "source": [
        "x=np.array([[1,2],[3,4]])\n",
        "m1=np.asmatrix(x)\n",
        "y6_1=np.linalg.inv(m1)\n",
        "print(y6_1)\n",
        "y6_2=np.trace(x)\n",
        "print(y6_2)"
      ]
    },
    {
      "cell_type": "markdown",
      "id": "9f088694",
      "metadata": {
        "id": "9f088694"
      },
      "source": [
        "Q7 Sort x along the second axis. x = [[1,4],[3,1]]"
      ]
    },
    {
      "cell_type": "code",
      "execution_count": null,
      "id": "40099735",
      "metadata": {
        "id": "40099735",
        "colab": {
          "base_uri": "https://localhost:8080/"
        },
        "outputId": "73312fd8-5a93-4eb1-9499-142e563adea1"
      },
      "outputs": [
        {
          "output_type": "stream",
          "name": "stdout",
          "text": [
            "[[1 4]\n",
            " [1 3]]\n"
          ]
        }
      ],
      "source": [
        "x=np.array([[1,4],[3,1]])\n",
        "y7=np.sort(x, axis=1)\n",
        "print(y7)"
      ]
    },
    {
      "cell_type": "markdown",
      "id": "51cc1a71",
      "metadata": {
        "id": "51cc1a71"
      },
      "source": [
        "Q8 Get the indices that would sort x(as above) along the second axis."
      ]
    },
    {
      "cell_type": "code",
      "execution_count": null,
      "id": "f314f2b6",
      "metadata": {
        "id": "f314f2b6",
        "colab": {
          "base_uri": "https://localhost:8080/"
        },
        "outputId": "8cac64f7-3c86-4f9e-97ca-de9a3569bbac"
      },
      "outputs": [
        {
          "output_type": "stream",
          "name": "stdout",
          "text": [
            "[[0 1]\n",
            " [1 0]]\n"
          ]
        }
      ],
      "source": [
        "x=np.array([[1,4],[3,1]])\n",
        "y8=np.argsort(x, axis=1)\n",
        "print(y8)"
      ]
    },
    {
      "cell_type": "markdown",
      "id": "1cf5455c",
      "metadata": {
        "id": "1cf5455c"
      },
      "source": [
        "Initiate x as a 2x5 array with random values from 0 to 10(not inclusive).Get the maximum and minimum values and their indices of x along the second axis."
      ]
    },
    {
      "cell_type": "code",
      "execution_count": null,
      "id": "4c9518c5",
      "metadata": {
        "id": "4c9518c5",
        "colab": {
          "base_uri": "https://localhost:8080/"
        },
        "outputId": "14e4e055-26ab-4958-bf5d-9a75d4ea9571"
      },
      "outputs": [
        {
          "output_type": "stream",
          "name": "stdout",
          "text": [
            "[[4 1 6 6 6]\n",
            " [1 5 9 5 9]]\n",
            "[4 1 6 6 6 1 5 9 5 9]\n",
            "The minimum element is:  1\n",
            "The maximum element is:  9\n",
            "The minimum element index is:  1\n",
            "The maximum element index is:  9\n"
          ]
        }
      ],
      "source": [
        "x=random.randint(10, size=(2,5))\n",
        "print(x)\n",
        "y=x.reshape(-1)\n",
        "print(y)\n",
        "y1=np.sort(y)\n",
        "y2=np.argsort(y)\n",
        "print(\"The minimum element is: \",y1[0])\n",
        "print(\"The maximum element is: \",y1[9])\n",
        "print(\"The minimum element index is: \",y2[0])\n",
        "print(\"The maximum element index is: \",y2[9])"
      ]
    },
    {
      "cell_type": "markdown",
      "id": "d4c46002",
      "metadata": {
        "id": "d4c46002"
      },
      "source": [
        "Run the following load command to get the 2-Dim iris dataset. Do the following operations on it."
      ]
    },
    {
      "cell_type": "code",
      "execution_count": null,
      "id": "6d70b524",
      "metadata": {
        "id": "6d70b524"
      },
      "outputs": [],
      "source": [
        "url = 'https://archive.ics.uci.edu/ml/machine-learning-databases/iris/iris.data'\n",
        "iris_2d = np.genfromtxt(url, delimiter=',', dtype='float', usecols=[0,1,2,3])\n",
        "# print(iris_2d)"
      ]
    },
    {
      "cell_type": "markdown",
      "id": "09bd05b0",
      "metadata": {
        "id": "09bd05b0"
      },
      "source": [
        "Drop rows that contain a missing value. "
      ]
    },
    {
      "cell_type": "code",
      "execution_count": null,
      "id": "ffd754b3",
      "metadata": {
        "id": "ffd754b3",
        "colab": {
          "base_uri": "https://localhost:8080/"
        },
        "outputId": "fc0ebfd2-473b-4956-b39a-138b1e1a8ca0"
      },
      "outputs": [
        {
          "output_type": "stream",
          "name": "stdout",
          "text": [
            "[5.1 3.5 1.4 0.2]\n",
            "[4.9 3.  1.4 0.2]\n",
            "[4.7 3.2 1.3 0.2]\n",
            "[4.6 3.1 1.5 0.2]\n",
            "[5.  3.6 1.4 0.2]\n",
            "[5.4 3.9 1.7 0.4]\n",
            "[4.6 3.4 1.4 0.3]\n",
            "[5.  3.4 1.5 0.2]\n",
            "[4.4 2.9 1.4 0.2]\n",
            "[4.9 3.1 1.5 0.1]\n",
            "[5.4 3.7 1.5 0.2]\n",
            "[4.8 3.4 1.6 0.2]\n",
            "[4.8 3.  1.4 0.1]\n",
            "[4.3 3.  1.1 0.1]\n",
            "[5.8 4.  1.2 0.2]\n",
            "[5.7 4.4 1.5 0.4]\n",
            "[5.4 3.9 1.3 0.4]\n",
            "[5.1 3.5 1.4 0.3]\n",
            "[5.7 3.8 1.7 0.3]\n",
            "[5.1 3.8 1.5 0.3]\n",
            "[5.4 3.4 1.7 0.2]\n",
            "[5.1 3.7 1.5 0.4]\n",
            "[4.6 3.6 1.  0.2]\n",
            "[5.1 3.3 1.7 0.5]\n",
            "[4.8 3.4 1.9 0.2]\n",
            "[5.  3.  1.6 0.2]\n",
            "[5.  3.4 1.6 0.4]\n",
            "[5.2 3.5 1.5 0.2]\n",
            "[5.2 3.4 1.4 0.2]\n",
            "[4.7 3.2 1.6 0.2]\n",
            "[4.8 3.1 1.6 0.2]\n",
            "[5.4 3.4 1.5 0.4]\n",
            "[5.2 4.1 1.5 0.1]\n",
            "[5.5 4.2 1.4 0.2]\n",
            "[4.9 3.1 1.5 0.1]\n",
            "[5.  3.2 1.2 0.2]\n",
            "[5.5 3.5 1.3 0.2]\n",
            "[4.9 3.1 1.5 0.1]\n",
            "[4.4 3.  1.3 0.2]\n",
            "[5.1 3.4 1.5 0.2]\n",
            "[5.  3.5 1.3 0.3]\n",
            "[4.5 2.3 1.3 0.3]\n",
            "[4.4 3.2 1.3 0.2]\n",
            "[5.  3.5 1.6 0.6]\n",
            "[5.1 3.8 1.9 0.4]\n",
            "[4.8 3.  1.4 0.3]\n",
            "[5.1 3.8 1.6 0.2]\n",
            "[4.6 3.2 1.4 0.2]\n",
            "[5.3 3.7 1.5 0.2]\n",
            "[5.  3.3 1.4 0.2]\n",
            "[7.  3.2 4.7 1.4]\n",
            "[6.4 3.2 4.5 1.5]\n",
            "[6.9 3.1 4.9 1.5]\n",
            "[5.5 2.3 4.  1.3]\n",
            "[6.5 2.8 4.6 1.5]\n",
            "[5.7 2.8 4.5 1.3]\n",
            "[6.3 3.3 4.7 1.6]\n",
            "[4.9 2.4 3.3 1. ]\n",
            "[6.6 2.9 4.6 1.3]\n",
            "[5.2 2.7 3.9 1.4]\n",
            "[5.  2.  3.5 1. ]\n",
            "[5.9 3.  4.2 1.5]\n",
            "[6.  2.2 4.  1. ]\n",
            "[6.1 2.9 4.7 1.4]\n",
            "[5.6 2.9 3.6 1.3]\n",
            "[6.7 3.1 4.4 1.4]\n",
            "[5.6 3.  4.5 1.5]\n",
            "[5.8 2.7 4.1 1. ]\n",
            "[6.2 2.2 4.5 1.5]\n",
            "[5.6 2.5 3.9 1.1]\n",
            "[5.9 3.2 4.8 1.8]\n",
            "[6.1 2.8 4.  1.3]\n",
            "[6.3 2.5 4.9 1.5]\n",
            "[6.1 2.8 4.7 1.2]\n",
            "[6.4 2.9 4.3 1.3]\n",
            "[6.6 3.  4.4 1.4]\n",
            "[6.8 2.8 4.8 1.4]\n",
            "[6.7 3.  5.  1.7]\n",
            "[6.  2.9 4.5 1.5]\n",
            "[5.7 2.6 3.5 1. ]\n",
            "[5.5 2.4 3.8 1.1]\n",
            "[5.5 2.4 3.7 1. ]\n",
            "[5.8 2.7 3.9 1.2]\n",
            "[6.  2.7 5.1 1.6]\n",
            "[5.4 3.  4.5 1.5]\n",
            "[6.  3.4 4.5 1.6]\n",
            "[6.7 3.1 4.7 1.5]\n",
            "[6.3 2.3 4.4 1.3]\n",
            "[5.6 3.  4.1 1.3]\n",
            "[5.5 2.5 4.  1.3]\n",
            "[5.5 2.6 4.4 1.2]\n",
            "[6.1 3.  4.6 1.4]\n",
            "[5.8 2.6 4.  1.2]\n",
            "[5.  2.3 3.3 1. ]\n",
            "[5.6 2.7 4.2 1.3]\n",
            "[5.7 3.  4.2 1.2]\n",
            "[5.7 2.9 4.2 1.3]\n",
            "[6.2 2.9 4.3 1.3]\n",
            "[5.1 2.5 3.  1.1]\n",
            "[5.7 2.8 4.1 1.3]\n",
            "[6.3 3.3 6.  2.5]\n",
            "[5.8 2.7 5.1 1.9]\n",
            "[7.1 3.  5.9 2.1]\n",
            "[6.3 2.9 5.6 1.8]\n",
            "[6.5 3.  5.8 2.2]\n",
            "[7.6 3.  6.6 2.1]\n",
            "[4.9 2.5 4.5 1.7]\n",
            "[7.3 2.9 6.3 1.8]\n",
            "[6.7 2.5 5.8 1.8]\n",
            "[7.2 3.6 6.1 2.5]\n",
            "[6.5 3.2 5.1 2. ]\n",
            "[6.4 2.7 5.3 1.9]\n",
            "[6.8 3.  5.5 2.1]\n",
            "[5.7 2.5 5.  2. ]\n",
            "[5.8 2.8 5.1 2.4]\n",
            "[6.4 3.2 5.3 2.3]\n",
            "[6.5 3.  5.5 1.8]\n",
            "[7.7 3.8 6.7 2.2]\n",
            "[7.7 2.6 6.9 2.3]\n",
            "[6.  2.2 5.  1.5]\n",
            "[6.9 3.2 5.7 2.3]\n",
            "[5.6 2.8 4.9 2. ]\n",
            "[7.7 2.8 6.7 2. ]\n",
            "[6.3 2.7 4.9 1.8]\n",
            "[6.7 3.3 5.7 2.1]\n",
            "[7.2 3.2 6.  1.8]\n",
            "[6.2 2.8 4.8 1.8]\n",
            "[6.1 3.  4.9 1.8]\n",
            "[6.4 2.8 5.6 2.1]\n",
            "[7.2 3.  5.8 1.6]\n",
            "[7.4 2.8 6.1 1.9]\n",
            "[7.9 3.8 6.4 2. ]\n",
            "[6.4 2.8 5.6 2.2]\n",
            "[6.3 2.8 5.1 1.5]\n",
            "[6.1 2.6 5.6 1.4]\n",
            "[7.7 3.  6.1 2.3]\n",
            "[6.3 3.4 5.6 2.4]\n",
            "[6.4 3.1 5.5 1.8]\n",
            "[6.  3.  4.8 1.8]\n",
            "[6.9 3.1 5.4 2.1]\n",
            "[6.7 3.1 5.6 2.4]\n",
            "[6.9 3.1 5.1 2.3]\n",
            "[5.8 2.7 5.1 1.9]\n",
            "[6.8 3.2 5.9 2.3]\n",
            "[6.7 3.3 5.7 2.5]\n",
            "[6.7 3.  5.2 2.3]\n",
            "[6.3 2.5 5.  1.9]\n",
            "[6.5 3.  5.2 2. ]\n",
            "[6.2 3.4 5.4 2.3]\n",
            "[5.9 3.  5.1 1.8]\n"
          ]
        }
      ],
      "source": [
        "# print(iris_2d[~np.isnan(iris_2d)])\n",
        "# print(~np.isnan(iris_2d))\n",
        "for i in range(np. size(iris_2d, 0)):\n",
        "  if(~np.isnan(iris_2d[i].all())):\n",
        "    print(iris_2d[i])"
      ]
    },
    {
      "cell_type": "markdown",
      "id": "8cbd9fb3",
      "metadata": {
        "id": "8cbd9fb3"
      },
      "source": [
        "Find the correlation between first two columns."
      ]
    },
    {
      "cell_type": "code",
      "execution_count": null,
      "id": "e3ef5a77",
      "metadata": {
        "id": "e3ef5a77",
        "colab": {
          "base_uri": "https://localhost:8080/"
        },
        "outputId": "96e7eb05-5772-40c2-d8e7-7e7181f3a7d6"
      },
      "outputs": [
        {
          "output_type": "stream",
          "name": "stdout",
          "text": [
            "[[1. 1. 1. ... 1. 1. 1.]\n",
            " [1. 1. 1. ... 1. 1. 1.]\n",
            " [1. 1. 1. ... 1. 1. 1.]\n",
            " ...\n",
            " [1. 1. 1. ... 1. 1. 1.]\n",
            " [1. 1. 1. ... 1. 1. 1.]\n",
            " [1. 1. 1. ... 1. 1. 1.]]\n"
          ]
        }
      ],
      "source": [
        "corr_matrix = iris_2d[:,[0,1]]\n",
        "# corr_matrix = corr_matrix()\n",
        "print(np.corrcoef(corr_matrix))"
      ]
    },
    {
      "cell_type": "markdown",
      "id": "73965a4a",
      "metadata": {
        "id": "73965a4a"
      },
      "source": [
        "Find the mean,median and standard deviation of column 3."
      ]
    },
    {
      "cell_type": "code",
      "execution_count": null,
      "id": "ab824597",
      "metadata": {
        "id": "ab824597",
        "colab": {
          "base_uri": "https://localhost:8080/"
        },
        "outputId": "cba82033-94ce-4f14-b6b9-55d1701510a3"
      },
      "outputs": [
        {
          "output_type": "stream",
          "name": "stdout",
          "text": [
            "3.758666666666666\n",
            "4.35\n",
            "1.7585291834055212\n"
          ]
        }
      ],
      "source": [
        "print(np.mean(iris_2d[:,2]))\n",
        "print(np.median(iris_2d[:,2]))\n",
        "print(np.std(iris_2d[:,2]))"
      ]
    },
    {
      "cell_type": "markdown",
      "id": "14e0308e",
      "metadata": {
        "id": "14e0308e"
      },
      "source": [
        "Create a new column for volume in iris_2d, where volume is (pi x petallength x sepal_length^2)/3"
      ]
    },
    {
      "cell_type": "code",
      "execution_count": null,
      "id": "91c944c3",
      "metadata": {
        "id": "91c944c3",
        "colab": {
          "base_uri": "https://localhost:8080/"
        },
        "outputId": "5465397d-be68-4894-e1d8-16a3476ca7a4"
      },
      "outputs": [
        {
          "output_type": "stream",
          "name": "stdout",
          "text": [
            "[[ 5.1         3.5         1.4         0.2        38.13265163]\n",
            " [ 4.9         3.          1.4         0.2        35.20049849]\n",
            " [ 4.7         3.2         1.3         0.2        30.07237208]\n",
            " [ 4.6         3.1         1.5         0.2        33.23805027]]\n"
          ]
        }
      ],
      "source": [
        "col = (np.pi * iris_2d[:, 2] * (iris_2d[:, 0]**2))/3\n",
        "col = col[:, np.newaxis]\n",
        "ans = np.hstack([iris_2d, col])\n",
        "print(ans[:4])"
      ]
    },
    {
      "cell_type": "markdown",
      "id": "b7c1758f",
      "metadata": {
        "id": "b7c1758f"
      },
      "source": [
        "Run the following loaad command and solve the following questions"
      ]
    },
    {
      "cell_type": "code",
      "execution_count": null,
      "id": "b3fae8a7",
      "metadata": {
        "id": "b3fae8a7"
      },
      "outputs": [],
      "source": [
        "url = 'https://archive.ics.uci.edu/ml/machine-learning-databases/iris/iris.data'\n",
        "iris = np.genfromtxt(url, delimiter=',', dtype='object')\n",
        "names = ('sepallength', 'sepalwidth', 'petallength', 'petalwidth', 'species')\n",
        "# print(iris)"
      ]
    },
    {
      "cell_type": "markdown",
      "id": "4ee21e50",
      "metadata": {
        "id": "4ee21e50"
      },
      "source": [
        "Find the count of unique species."
      ]
    },
    {
      "cell_type": "code",
      "execution_count": null,
      "id": "730ad758",
      "metadata": {
        "id": "730ad758",
        "colab": {
          "base_uri": "https://localhost:8080/"
        },
        "outputId": "21e344f0-cab7-499f-acc9-584a62775363"
      },
      "outputs": [
        {
          "output_type": "stream",
          "name": "stdout",
          "text": [
            "(array([b'Iris-setosa', b'Iris-versicolor', b'Iris-virginica'],\n",
            "      dtype=object), array([50, 50, 50]))\n"
          ]
        }
      ],
      "source": [
        "species = iris[:,4]\n",
        "print(np.unique(species, return_counts=True))"
      ]
    },
    {
      "cell_type": "markdown",
      "id": "6d054b10",
      "metadata": {
        "id": "6d054b10"
      },
      "source": [
        "Bin the petal length (3rd) column of iris_2d to form a text array, such that if petal length is:\n",
        "Less than 3 –> ‘small’\n",
        "3-5 –> ‘medium’\n",
        "‘>=5 –> ‘large’"
      ]
    },
    {
      "cell_type": "code",
      "execution_count": null,
      "id": "5be1b28a",
      "metadata": {
        "scrolled": false,
        "id": "5be1b28a",
        "colab": {
          "base_uri": "https://localhost:8080/"
        },
        "outputId": "09bf502a-6dc3-47cf-b75f-8340f6475ea3"
      },
      "outputs": [
        {
          "output_type": "stream",
          "name": "stdout",
          "text": [
            "['small', 'small', 'small', 'small']\n"
          ]
        }
      ],
      "source": [
        "bin = np.digitize(iris[:, 2].astype('float'), [0, 3, 5, 10])\n",
        "dic = {1: 'small', 2: 'medium', 3: 'large', 4: np.nan}\n",
        "ans = [dic[x] for x in bin]\n",
        "print(ans[:4])"
      ]
    },
    {
      "cell_type": "markdown",
      "id": "87b2ddd8",
      "metadata": {
        "id": "87b2ddd8"
      },
      "source": [
        "Find the most frequent value of petal length (3rd column) in iris dataset"
      ]
    },
    {
      "cell_type": "code",
      "execution_count": null,
      "id": "bb79857d",
      "metadata": {
        "id": "bb79857d",
        "colab": {
          "base_uri": "https://localhost:8080/"
        },
        "outputId": "aabe003e-a16f-4cd7-d933-49a19885e85d"
      },
      "outputs": [
        {
          "output_type": "stream",
          "name": "stdout",
          "text": [
            "b'1.5'\n"
          ]
        }
      ],
      "source": [
        "vals, counts = np.unique(iris[:, 2], return_counts=True)\n",
        "print(vals[np.argmax(counts)])"
      ]
    }
  ],
  "metadata": {
    "kernelspec": {
      "display_name": "Python 3 (ipykernel)",
      "language": "python",
      "name": "python3"
    },
    "language_info": {
      "codemirror_mode": {
        "name": "ipython",
        "version": 3
      },
      "file_extension": ".py",
      "mimetype": "text/x-python",
      "name": "python",
      "nbconvert_exporter": "python",
      "pygments_lexer": "ipython3",
      "version": "3.8.10"
    },
    "colab": {
      "name": "Copy of ML_Assignment_1_NumPy.ipynb",
      "provenance": [],
      "collapsed_sections": []
    }
  },
  "nbformat": 4,
  "nbformat_minor": 5
}